{
 "cells": [
  {
   "cell_type": "markdown",
   "metadata": {},
   "source": [
    "# Data exploration \n",
    "\n",
    "The task is to do a reducer side inner join of both the tables (what tables?)"
   ]
  },
  {
   "cell_type": "code",
   "execution_count": 1,
   "metadata": {
    "collapsed": false
   },
   "outputs": [
    {
     "name": "stdout",
     "output_type": "stream",
     "text": [
      "Populating the interactive namespace from numpy and matplotlib\n"
     ]
    }
   ],
   "source": [
    "import pandas as pd \n",
    "import numpy as np\n",
    "import pylab as pl\n",
    "\n",
    "%pylab inline\n",
    "\n",
    "pl.style.use('ggplot')"
   ]
  },
  {
   "cell_type": "code",
   "execution_count": 2,
   "metadata": {
    "collapsed": true
   },
   "outputs": [],
   "source": [
    "f_sunday = pd.read_csv('../data/fares_sunday.csv')\n",
    "f_wednesday = pd.read_csv('../data/fares_wednesday.csv')"
   ]
  },
  {
   "cell_type": "code",
   "execution_count": 4,
   "metadata": {
    "collapsed": false
   },
   "outputs": [
    {
     "name": "stderr",
     "output_type": "stream",
     "text": [
      "/Library/Python/2.7/site-packages/pandas-0.16.2-py2.7-macosx-10.10-intel.egg/pandas/io/parsers.py:1170: DtypeWarning: Columns (4) have mixed types. Specify dtype option on import or set low_memory=False.\n",
      "  data = self._reader.read(nrows)\n"
     ]
    }
   ],
   "source": [
    "t_sunday = pd.read_csv('../data/trips_sunday.csv')\n",
    "t_wednesday = pd.read_csv('../data/trips_wednesday.csv')"
   ]
  },
  {
   "cell_type": "code",
   "execution_count": 6,
   "metadata": {
    "collapsed": false
   },
   "outputs": [
    {
     "data": {
      "text/html": [
       "<div>\n",
       "<table border=\"1\" class=\"dataframe\">\n",
       "  <thead>\n",
       "    <tr style=\"text-align: right;\">\n",
       "      <th></th>\n",
       "      <th>medallion</th>\n",
       "      <th>hack_license</th>\n",
       "      <th>vendor_id</th>\n",
       "      <th>pickup_datetime</th>\n",
       "      <th>payment_type</th>\n",
       "      <th>fare_amount</th>\n",
       "      <th>surcharge</th>\n",
       "      <th>mta_tax</th>\n",
       "      <th>tip_amount</th>\n",
       "      <th>tolls_amount</th>\n",
       "      <th>total_amount</th>\n",
       "    </tr>\n",
       "  </thead>\n",
       "  <tbody>\n",
       "    <tr>\n",
       "      <th>0</th>\n",
       "      <td>4B37DE7600AEF9C61F784B05FDEEE0E9</td>\n",
       "      <td>1D7E4CD01ED1C7A6E662A2A9A4B7153F</td>\n",
       "      <td>CMT</td>\n",
       "      <td>2013-08-04 00:03:59</td>\n",
       "      <td>CRD</td>\n",
       "      <td>7.5</td>\n",
       "      <td>0.5</td>\n",
       "      <td>0.5</td>\n",
       "      <td>2.10</td>\n",
       "      <td>0</td>\n",
       "      <td>10.60</td>\n",
       "    </tr>\n",
       "    <tr>\n",
       "      <th>1</th>\n",
       "      <td>EEC9C6596BD11B4F213367BEF164ED40</td>\n",
       "      <td>902B96BCB437D747BA50888778132BE4</td>\n",
       "      <td>CMT</td>\n",
       "      <td>2013-08-04 00:16:29</td>\n",
       "      <td>CRD</td>\n",
       "      <td>6.5</td>\n",
       "      <td>0.5</td>\n",
       "      <td>0.5</td>\n",
       "      <td>1.87</td>\n",
       "      <td>0</td>\n",
       "      <td>9.37</td>\n",
       "    </tr>\n",
       "    <tr>\n",
       "      <th>2</th>\n",
       "      <td>B009310787A68502FFD50A2F9CB5CE26</td>\n",
       "      <td>A44307E7C864D631E9A26B49C25DD23B</td>\n",
       "      <td>CMT</td>\n",
       "      <td>2013-08-04 00:11:00</td>\n",
       "      <td>CRD</td>\n",
       "      <td>14.5</td>\n",
       "      <td>0.5</td>\n",
       "      <td>0.5</td>\n",
       "      <td>3.00</td>\n",
       "      <td>0</td>\n",
       "      <td>18.50</td>\n",
       "    </tr>\n",
       "    <tr>\n",
       "      <th>3</th>\n",
       "      <td>A408F138216DE3E432BBF2FD88665A88</td>\n",
       "      <td>82EA6A085709BE93AA9DA363A85A04FF</td>\n",
       "      <td>CMT</td>\n",
       "      <td>2013-08-04 00:04:26</td>\n",
       "      <td>CRD</td>\n",
       "      <td>12.5</td>\n",
       "      <td>0.5</td>\n",
       "      <td>0.5</td>\n",
       "      <td>3.37</td>\n",
       "      <td>0</td>\n",
       "      <td>16.87</td>\n",
       "    </tr>\n",
       "    <tr>\n",
       "      <th>4</th>\n",
       "      <td>C46A099283B423340CD9CC2837E73761</td>\n",
       "      <td>4339B58CF42D6B3011479B8D9731CA7F</td>\n",
       "      <td>CMT</td>\n",
       "      <td>2013-08-04 00:09:55</td>\n",
       "      <td>CRD</td>\n",
       "      <td>7.5</td>\n",
       "      <td>0.5</td>\n",
       "      <td>0.5</td>\n",
       "      <td>1.50</td>\n",
       "      <td>0</td>\n",
       "      <td>10.00</td>\n",
       "    </tr>\n",
       "  </tbody>\n",
       "</table>\n",
       "</div>"
      ],
      "text/plain": [
       "                          medallion                      hack_license  \\\n",
       "0  4B37DE7600AEF9C61F784B05FDEEE0E9  1D7E4CD01ED1C7A6E662A2A9A4B7153F   \n",
       "1  EEC9C6596BD11B4F213367BEF164ED40  902B96BCB437D747BA50888778132BE4   \n",
       "2  B009310787A68502FFD50A2F9CB5CE26  A44307E7C864D631E9A26B49C25DD23B   \n",
       "3  A408F138216DE3E432BBF2FD88665A88  82EA6A085709BE93AA9DA363A85A04FF   \n",
       "4  C46A099283B423340CD9CC2837E73761  4339B58CF42D6B3011479B8D9731CA7F   \n",
       "\n",
       "  vendor_id      pickup_datetime payment_type  fare_amount  surcharge  \\\n",
       "0       CMT  2013-08-04 00:03:59          CRD          7.5        0.5   \n",
       "1       CMT  2013-08-04 00:16:29          CRD          6.5        0.5   \n",
       "2       CMT  2013-08-04 00:11:00          CRD         14.5        0.5   \n",
       "3       CMT  2013-08-04 00:04:26          CRD         12.5        0.5   \n",
       "4       CMT  2013-08-04 00:09:55          CRD          7.5        0.5   \n",
       "\n",
       "   mta_tax  tip_amount  tolls_amount  total_amount  \n",
       "0      0.5        2.10             0         10.60  \n",
       "1      0.5        1.87             0          9.37  \n",
       "2      0.5        3.00             0         18.50  \n",
       "3      0.5        3.37             0         16.87  \n",
       "4      0.5        1.50             0         10.00  "
      ]
     },
     "execution_count": 6,
     "metadata": {},
     "output_type": "execute_result"
    }
   ],
   "source": [
    "f_sunday.head()"
   ]
  },
  {
   "cell_type": "code",
   "execution_count": 5,
   "metadata": {
    "collapsed": false
   },
   "outputs": [
    {
     "data": {
      "text/html": [
       "<div>\n",
       "<table border=\"1\" class=\"dataframe\">\n",
       "  <thead>\n",
       "    <tr style=\"text-align: right;\">\n",
       "      <th></th>\n",
       "      <th>medallion</th>\n",
       "      <th>hack_license</th>\n",
       "      <th>vendor_id</th>\n",
       "      <th>rate_code</th>\n",
       "      <th>store_and_fwd_flag</th>\n",
       "      <th>pickup_datetime</th>\n",
       "      <th>dropoff_datetime</th>\n",
       "      <th>passenger_count</th>\n",
       "      <th>trip_time_in_secs</th>\n",
       "      <th>trip_distance</th>\n",
       "      <th>pickup_longitude</th>\n",
       "      <th>pickup_latitude</th>\n",
       "      <th>dropoff_longitude</th>\n",
       "      <th>dropoff_latitude</th>\n",
       "    </tr>\n",
       "  </thead>\n",
       "  <tbody>\n",
       "    <tr>\n",
       "      <th>0</th>\n",
       "      <td>4B37DE7600AEF9C61F784B05FDEEE0E9</td>\n",
       "      <td>1D7E4CD01ED1C7A6E662A2A9A4B7153F</td>\n",
       "      <td>CMT</td>\n",
       "      <td>1</td>\n",
       "      <td>N</td>\n",
       "      <td>2013-08-04 00:03:59</td>\n",
       "      <td>2013-08-04 00:12:46</td>\n",
       "      <td>2</td>\n",
       "      <td>527</td>\n",
       "      <td>1.3</td>\n",
       "      <td>-74.008743</td>\n",
       "      <td>40.738098</td>\n",
       "      <td>-73.992302</td>\n",
       "      <td>40.743961</td>\n",
       "    </tr>\n",
       "    <tr>\n",
       "      <th>1</th>\n",
       "      <td>EEC9C6596BD11B4F213367BEF164ED40</td>\n",
       "      <td>902B96BCB437D747BA50888778132BE4</td>\n",
       "      <td>CMT</td>\n",
       "      <td>1</td>\n",
       "      <td>N</td>\n",
       "      <td>2013-08-04 00:16:29</td>\n",
       "      <td>2013-08-04 00:21:41</td>\n",
       "      <td>1</td>\n",
       "      <td>311</td>\n",
       "      <td>1.2</td>\n",
       "      <td>-73.955505</td>\n",
       "      <td>40.776752</td>\n",
       "      <td>-73.942024</td>\n",
       "      <td>40.786846</td>\n",
       "    </tr>\n",
       "    <tr>\n",
       "      <th>2</th>\n",
       "      <td>B009310787A68502FFD50A2F9CB5CE26</td>\n",
       "      <td>A44307E7C864D631E9A26B49C25DD23B</td>\n",
       "      <td>CMT</td>\n",
       "      <td>1</td>\n",
       "      <td>N</td>\n",
       "      <td>2013-08-04 00:11:00</td>\n",
       "      <td>2013-08-04 00:21:57</td>\n",
       "      <td>1</td>\n",
       "      <td>656</td>\n",
       "      <td>4.3</td>\n",
       "      <td>-73.993073</td>\n",
       "      <td>40.698143</td>\n",
       "      <td>-73.979675</td>\n",
       "      <td>40.657543</td>\n",
       "    </tr>\n",
       "    <tr>\n",
       "      <th>3</th>\n",
       "      <td>A408F138216DE3E432BBF2FD88665A88</td>\n",
       "      <td>82EA6A085709BE93AA9DA363A85A04FF</td>\n",
       "      <td>CMT</td>\n",
       "      <td>1</td>\n",
       "      <td>N</td>\n",
       "      <td>2013-08-04 00:04:26</td>\n",
       "      <td>2013-08-04 00:18:27</td>\n",
       "      <td>1</td>\n",
       "      <td>840</td>\n",
       "      <td>3.2</td>\n",
       "      <td>-73.954834</td>\n",
       "      <td>40.765484</td>\n",
       "      <td>-73.999046</td>\n",
       "      <td>40.760777</td>\n",
       "    </tr>\n",
       "    <tr>\n",
       "      <th>4</th>\n",
       "      <td>C46A099283B423340CD9CC2837E73761</td>\n",
       "      <td>4339B58CF42D6B3011479B8D9731CA7F</td>\n",
       "      <td>CMT</td>\n",
       "      <td>1</td>\n",
       "      <td>N</td>\n",
       "      <td>2013-08-04 00:09:55</td>\n",
       "      <td>2013-08-04 00:18:53</td>\n",
       "      <td>1</td>\n",
       "      <td>538</td>\n",
       "      <td>1.0</td>\n",
       "      <td>-73.988869</td>\n",
       "      <td>40.723156</td>\n",
       "      <td>-74.001343</td>\n",
       "      <td>40.731052</td>\n",
       "    </tr>\n",
       "  </tbody>\n",
       "</table>\n",
       "</div>"
      ],
      "text/plain": [
       "                          medallion                      hack_license  \\\n",
       "0  4B37DE7600AEF9C61F784B05FDEEE0E9  1D7E4CD01ED1C7A6E662A2A9A4B7153F   \n",
       "1  EEC9C6596BD11B4F213367BEF164ED40  902B96BCB437D747BA50888778132BE4   \n",
       "2  B009310787A68502FFD50A2F9CB5CE26  A44307E7C864D631E9A26B49C25DD23B   \n",
       "3  A408F138216DE3E432BBF2FD88665A88  82EA6A085709BE93AA9DA363A85A04FF   \n",
       "4  C46A099283B423340CD9CC2837E73761  4339B58CF42D6B3011479B8D9731CA7F   \n",
       "\n",
       "  vendor_id  rate_code store_and_fwd_flag      pickup_datetime  \\\n",
       "0       CMT          1                  N  2013-08-04 00:03:59   \n",
       "1       CMT          1                  N  2013-08-04 00:16:29   \n",
       "2       CMT          1                  N  2013-08-04 00:11:00   \n",
       "3       CMT          1                  N  2013-08-04 00:04:26   \n",
       "4       CMT          1                  N  2013-08-04 00:09:55   \n",
       "\n",
       "      dropoff_datetime  passenger_count  trip_time_in_secs  trip_distance  \\\n",
       "0  2013-08-04 00:12:46                2                527            1.3   \n",
       "1  2013-08-04 00:21:41                1                311            1.2   \n",
       "2  2013-08-04 00:21:57                1                656            4.3   \n",
       "3  2013-08-04 00:18:27                1                840            3.2   \n",
       "4  2013-08-04 00:18:53                1                538            1.0   \n",
       "\n",
       "   pickup_longitude  pickup_latitude  dropoff_longitude  dropoff_latitude  \n",
       "0        -74.008743        40.738098         -73.992302         40.743961  \n",
       "1        -73.955505        40.776752         -73.942024         40.786846  \n",
       "2        -73.993073        40.698143         -73.979675         40.657543  \n",
       "3        -73.954834        40.765484         -73.999046         40.760777  \n",
       "4        -73.988869        40.723156         -74.001343         40.731052  "
      ]
     },
     "execution_count": 5,
     "metadata": {},
     "output_type": "execute_result"
    }
   ],
   "source": [
    "t_sunday.head()"
   ]
  },
  {
   "cell_type": "code",
   "execution_count": null,
   "metadata": {
    "collapsed": true
   },
   "outputs": [],
   "source": []
  }
 ],
 "metadata": {
  "kernelspec": {
   "display_name": "Python 2",
   "language": "python",
   "name": "python2"
  },
  "language_info": {
   "codemirror_mode": {
    "name": "ipython",
    "version": 2
   },
   "file_extension": ".py",
   "mimetype": "text/x-python",
   "name": "python",
   "nbconvert_exporter": "python",
   "pygments_lexer": "ipython2",
   "version": "2.7.10"
  }
 },
 "nbformat": 4,
 "nbformat_minor": 0
}
